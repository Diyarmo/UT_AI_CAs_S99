{
 "cells": [
  {
   "cell_type": "code",
   "execution_count": 377,
   "metadata": {},
   "outputs": [],
   "source": [
    "import pandas as pd\n",
    "import numpy as np\n",
    "import matplotlib.pyplot as plt\n",
    "\n",
    "from datetime import date\n",
    "\n",
    "from sklearn.model_selection import train_test_split\n",
    "\n",
    "from sklearn.preprocessing import KBinsDiscretizer\n",
    "from sklearn.feature_selection import mutual_info_classif\n",
    "\n",
    "import category_encoders as ce\n",
    "import seaborn as sns"
   ]
  },
  {
   "cell_type": "code",
   "execution_count": 378,
   "metadata": {},
   "outputs": [],
   "source": [
    "data = pd.read_csv(\"data.csv\").drop('Unnamed: 0', axis=1).replace('Yes', 1).replace('No', 0)"
   ]
  },
  {
   "cell_type": "code",
   "execution_count": null,
   "metadata": {},
   "outputs": [],
   "source": []
  },
  {
   "cell_type": "code",
   "execution_count": 379,
   "metadata": {},
   "outputs": [],
   "source": [
    "X = data.drop('Is Back', axis=1)\n",
    "y = data['Is Back']"
   ]
  },
  {
   "cell_type": "markdown",
   "metadata": {},
   "source": [
    "## Phase 0"
   ]
  },
  {
   "cell_type": "markdown",
   "metadata": {},
   "source": [
    "Customer ID is unique for each row so it has no specific information for the model, thus it's dropped."
   ]
  },
  {
   "cell_type": "code",
   "execution_count": 380,
   "metadata": {},
   "outputs": [],
   "source": [
    "X = X.drop('Customer ID', axis=1)"
   ]
  },
  {
   "cell_type": "markdown",
   "metadata": {},
   "source": [
    "Month and Weekday features are added to dataset, so models can capture any data related to the date.\n"
   ]
  },
  {
   "cell_type": "code",
   "execution_count": 381,
   "metadata": {},
   "outputs": [],
   "source": [
    "X['Date'] = pd.to_datetime(X['Date'])\n",
    "X['Month'] = X['Date'].dt.month\n",
    "X['Weekday'] = X['Date'].dt.day % 7\n",
    "X = X.drop('Date', axis=1)"
   ]
  },
  {
   "cell_type": "markdown",
   "metadata": {},
   "source": [
    "Unit Price of each row is calculated."
   ]
  },
  {
   "cell_type": "code",
   "execution_count": 149,
   "metadata": {},
   "outputs": [],
   "source": [
    "X['Unit Price'] = X['Total Price'] / X['Total Quantity'].replace(0,1)"
   ]
  },
  {
   "cell_type": "code",
   "execution_count": 156,
   "metadata": {},
   "outputs": [],
   "source": [
    "X_train, X_test, y_train, y_test = train_test_split(X, y, test_size=0.2)"
   ]
  },
  {
   "cell_type": "code",
   "execution_count": 158,
   "metadata": {},
   "outputs": [],
   "source": [
    "kbd = KBinsDiscretizer(encode = 'ordinal', strategy='quantile')"
   ]
  },
  {
   "cell_type": "markdown",
   "metadata": {},
   "source": [
    "Total Price, Total Quantity, Unit Price are discretized in order to extract new categorical features which can be joined with other features."
   ]
  },
  {
   "cell_type": "code",
   "execution_count": 382,
   "metadata": {},
   "outputs": [
    {
     "name": "stderr",
     "output_type": "stream",
     "text": [
      "/home/diyar/anaconda3/lib/python3.7/site-packages/ipykernel_launcher.py:1: SettingWithCopyWarning: \n",
      "A value is trying to be set on a copy of a slice from a DataFrame.\n",
      "Try using .loc[row_indexer,col_indexer] = value instead\n",
      "\n",
      "See the caveats in the documentation: http://pandas.pydata.org/pandas-docs/stable/user_guide/indexing.html#returning-a-view-versus-a-copy\n",
      "  \"\"\"Entry point for launching an IPython kernel.\n",
      "/home/diyar/anaconda3/lib/python3.7/site-packages/ipykernel_launcher.py:2: SettingWithCopyWarning: \n",
      "A value is trying to be set on a copy of a slice from a DataFrame.\n",
      "Try using .loc[row_indexer,col_indexer] = value instead\n",
      "\n",
      "See the caveats in the documentation: http://pandas.pydata.org/pandas-docs/stable/user_guide/indexing.html#returning-a-view-versus-a-copy\n",
      "  \n",
      "/home/diyar/anaconda3/lib/python3.7/site-packages/ipykernel_launcher.py:4: SettingWithCopyWarning: \n",
      "A value is trying to be set on a copy of a slice from a DataFrame.\n",
      "Try using .loc[row_indexer,col_indexer] = value instead\n",
      "\n",
      "See the caveats in the documentation: http://pandas.pydata.org/pandas-docs/stable/user_guide/indexing.html#returning-a-view-versus-a-copy\n",
      "  after removing the cwd from sys.path.\n",
      "/home/diyar/anaconda3/lib/python3.7/site-packages/ipykernel_launcher.py:5: SettingWithCopyWarning: \n",
      "A value is trying to be set on a copy of a slice from a DataFrame.\n",
      "Try using .loc[row_indexer,col_indexer] = value instead\n",
      "\n",
      "See the caveats in the documentation: http://pandas.pydata.org/pandas-docs/stable/user_guide/indexing.html#returning-a-view-versus-a-copy\n",
      "  \"\"\"\n",
      "/home/diyar/anaconda3/lib/python3.7/site-packages/ipykernel_launcher.py:7: SettingWithCopyWarning: \n",
      "A value is trying to be set on a copy of a slice from a DataFrame.\n",
      "Try using .loc[row_indexer,col_indexer] = value instead\n",
      "\n",
      "See the caveats in the documentation: http://pandas.pydata.org/pandas-docs/stable/user_guide/indexing.html#returning-a-view-versus-a-copy\n",
      "  import sys\n",
      "/home/diyar/anaconda3/lib/python3.7/site-packages/ipykernel_launcher.py:8: SettingWithCopyWarning: \n",
      "A value is trying to be set on a copy of a slice from a DataFrame.\n",
      "Try using .loc[row_indexer,col_indexer] = value instead\n",
      "\n",
      "See the caveats in the documentation: http://pandas.pydata.org/pandas-docs/stable/user_guide/indexing.html#returning-a-view-versus-a-copy\n",
      "  \n"
     ]
    }
   ],
   "source": [
    "X_train['price_label'] = kbd.fit_transform(X_train['Total Price'].values.reshape((-1,1)))\n",
    "X_test['price_label'] = kbd.transform(X_test['Total Price'].values.reshape((-1,1)))\n",
    "\n",
    "X_train['quantity_label'] = kbd.fit_transform(X_train['Total Quantity'].values.reshape((-1,1)))\n",
    "X_test['quantity_label'] = kbd.transform(X_test['Total Quantity'].values.reshape((-1,1)))\n",
    "\n",
    "X_train['unit_price_label'] = kbd.fit_transform(X_train['Unit Price'].values.reshape((-1,1)))\n",
    "X_test['unit_price_label'] = kbd.transform(X_test['Unit Price'].values.reshape((-1,1)))"
   ]
  },
  {
   "cell_type": "markdown",
   "metadata": {},
   "source": [
    "Categorical Features are joined together to make new features."
   ]
  },
  {
   "cell_type": "code",
   "execution_count": 383,
   "metadata": {},
   "outputs": [],
   "source": [
    "cat_cols = ['Country', 'Month', 'Weekday', \n",
    "            'price_label', 'quantity_label', 'unit_price_label']"
   ]
  },
  {
   "cell_type": "code",
   "execution_count": 384,
   "metadata": {},
   "outputs": [
    {
     "name": "stderr",
     "output_type": "stream",
     "text": [
      "/home/diyar/anaconda3/lib/python3.7/site-packages/ipykernel_launcher.py:4: SettingWithCopyWarning: \n",
      "A value is trying to be set on a copy of a slice from a DataFrame.\n",
      "Try using .loc[row_indexer,col_indexer] = value instead\n",
      "\n",
      "See the caveats in the documentation: http://pandas.pydata.org/pandas-docs/stable/user_guide/indexing.html#returning-a-view-versus-a-copy\n",
      "  after removing the cwd from sys.path.\n",
      "/home/diyar/anaconda3/lib/python3.7/site-packages/ipykernel_launcher.py:5: SettingWithCopyWarning: \n",
      "A value is trying to be set on a copy of a slice from a DataFrame.\n",
      "Try using .loc[row_indexer,col_indexer] = value instead\n",
      "\n",
      "See the caveats in the documentation: http://pandas.pydata.org/pandas-docs/stable/user_guide/indexing.html#returning-a-view-versus-a-copy\n",
      "  \"\"\"\n"
     ]
    }
   ],
   "source": [
    "new_features = []\n",
    "for i, col in enumerate(cat_cols):\n",
    "    for feature in cat_cols[i+1:]:\n",
    "        X_train[col+'--'+feature] = X_train[col].astype(str) + '-' + X_train[feature].astype(str)\n",
    "        X_test[col+'--'+feature] = X_test[col].astype(str) + '-' + X_test[feature].astype(str)\n",
    "        new_features.append(col+'--'+feature)"
   ]
  },
  {
   "cell_type": "markdown",
   "metadata": {},
   "source": [
    "All categorical features are encoded using target encoding, using other encoding methods such as one-hot encoding will lead to having too much columns."
   ]
  },
  {
   "cell_type": "code",
   "execution_count": 386,
   "metadata": {},
   "outputs": [],
   "source": [
    "te = ce.TargetEncoder(cols = new_features + cat_cols)\n",
    "X_train_te = te.fit_transform(X_train, y_train)\n",
    "X_test_te = te.transform(X_test)"
   ]
  },
  {
   "cell_type": "code",
   "execution_count": 388,
   "metadata": {},
   "outputs": [
    {
     "name": "stdout",
     "output_type": "stream",
     "text": [
      "Total Quantity 0.0\n",
      "Weekday--unit_price_label 0.0\n",
      "Weekday--price_label 0.0\n",
      "unit_price_label 0.0\n",
      "price_label 0.0\n",
      "quantity_label--unit_price_label 0.0\n",
      "Country 0.0\n",
      "Unit Price 0.0025856438299445283\n",
      "quantity_label 0.005585495543625196\n",
      "Weekday--quantity_label 0.007356270482681504\n",
      "Purchase Count 0.00782186480101199\n",
      "Weekday 0.011452842991936274\n",
      "Country--unit_price_label 0.014459616408685871\n",
      "Country--Weekday 0.014779508190489121\n",
      "Country--quantity_label 0.015611070619537593\n",
      "Country--price_label 0.017603709769447695\n",
      "price_label--unit_price_label 0.01886478371424838\n",
      "price_label--quantity_label 0.02040090239393888\n",
      "Total Price 0.02390848209288099\n",
      "Month--price_label 0.05535171436359598\n",
      "Month 0.059049235664329514\n",
      "Month--Weekday 0.059874823102991304\n",
      "Month--quantity_label 0.06973284591471263\n",
      "Month--unit_price_label 0.07215168821749662\n",
      "Country--Month 0.07279918317512046\n"
     ]
    }
   ],
   "source": [
    "gain = mutual_info_classif(X_train_te, y_train)\n",
    "for i in (np.argsort(gain)):\n",
    "    print(X_test_te.columns[i], gain[i])"
   ]
  },
  {
   "cell_type": "code",
   "execution_count": 391,
   "metadata": {},
   "outputs": [
    {
     "name": "stdout",
     "output_type": "stream",
     "text": [
      "Total Quantity -0.03680151337191328\n",
      "Total Price -0.030121752307103955\n",
      "Unit Price -0.01838237305561165\n",
      "Purchase Count 0.01607261064164402\n",
      "Country--Weekday 0.02121415849651101\n",
      "Weekday--price_label 0.027009580133549586\n",
      "unit_price_label 0.027804030091968204\n",
      "Country 0.03064097505160503\n",
      "Weekday 0.03874084728233686\n",
      "price_label--quantity_label 0.04092866239508586\n",
      "price_label 0.04172150156225894\n",
      "Country--quantity_label 0.043584265142299405\n",
      "Weekday--unit_price_label 0.04702280230349451\n",
      "Weekday--quantity_label 0.06085080385180608\n",
      "quantity_label 0.06268817476639225\n",
      "price_label--unit_price_label 0.0669153882427656\n",
      "Country--unit_price_label 0.07280557858901403\n",
      "Country--price_label 0.07825824587904205\n",
      "quantity_label--unit_price_label 0.08466901842704277\n",
      "Month--quantity_label 0.3555423055801484\n",
      "Country--Month 0.3723973405454998\n",
      "Month--unit_price_label 0.3780249980783016\n",
      "Month--Weekday 0.3785403149935379\n",
      "Month 0.39168838667127226\n",
      "Month--price_label 0.39240414666205653\n"
     ]
    }
   ],
   "source": [
    "corrs = X_test_te.join(y_test).corr()['Is Back']\n",
    "for i in (np.argsort(corrs)[:-1]):\n",
    "    print(X_test_te.columns[i], corrs[i])"
   ]
  },
  {
   "cell_type": "code",
   "execution_count": 396,
   "metadata": {},
   "outputs": [
    {
     "data": {
      "text/plain": [
       "<matplotlib.axes._subplots.AxesSubplot at 0x7fe7f08bc250>"
      ]
     },
     "execution_count": 396,
     "metadata": {},
     "output_type": "execute_result"
    },
    {
     "data": {
      "image/png": "[encoded data removed]",
      "text/plain": [
       "<Figure size 1080x720 with 1 Axes>"
      ]
     },
     "metadata": {
      "needs_background": "light"
     },
     "output_type": "display_data"
    }
   ],
   "source": [
    "plt.figure(figsize=(15, 10))\n",
    "sns.barplot(x=X_test_te.columns, y = gain)"
   ]
  },
  {
   "cell_type": "markdown",
   "metadata": {},
   "source": [
    "## Phase 1"
   ]
  },
  {
   "cell_type": "code",
   "execution_count": null,
   "metadata": {},
   "outputs": [],
   "source": []
  },
  {
   "cell_type": "code",
   "execution_count": 176,
   "metadata": {},
   "outputs": [],
   "source": [
    "from sklearn.neighbors import KNeighborsClassifier\n",
    "from sklearn.linear_model import LogisticRegression\n",
    "from sklearn.tree import DecisionTreeClassifier\n",
    "\n",
    "from sklearn.metrics import accuracy_score, recall_score, precision_score, f1_score"
   ]
  },
  {
   "cell_type": "code",
   "execution_count": 179,
   "metadata": {},
   "outputs": [],
   "source": [
    "def metrics(y_pred, y_true):\n",
    "    print('Accuracy:', accuracy_score(y_pred = y_pred, y_true = y_true))\n",
    "    print('Precision:', precision_score(y_pred = y_pred, y_true = y_true))\n",
    "    print('Recall:', recall_score(y_pred = y_pred, y_true = y_true))\n",
    "    print('F1:', f1_score(y_pred = y_pred, y_true = y_true))"
   ]
  },
  {
   "cell_type": "code",
   "execution_count": 282,
   "metadata": {},
   "outputs": [],
   "source": [
    "def get_scores(clf):\n",
    "    clf = clf.fit(X_train_te_normal, y_train)\n",
    "    print(\"metrics on test:\")\n",
    "    predicts = clf.predict(X_test_te_normal)\n",
    "    metrics(y_pred=predicts, y_true=y_test)\n",
    "    print(\"metrics on train:\")\n",
    "    predicts = clf.predict(X_train_te_normal)\n",
    "    metrics(y_pred=predicts, y_true=y_train)"
   ]
  },
  {
   "cell_type": "code",
   "execution_count": 180,
   "metadata": {},
   "outputs": [],
   "source": [
    "X_train_te_normal = X_train_te / X_train_te.max()\n",
    "X_test_te_normal = X_test_te / X_train_te.max()"
   ]
  },
  {
   "cell_type": "code",
   "execution_count": 344,
   "metadata": {},
   "outputs": [
    {
     "name": "stdout",
     "output_type": "stream",
     "text": [
      "metrics on test:\n",
      "Accuracy: 0.7231121281464531\n",
      "Precision: 0.7569141193595342\n",
      "Recall: 0.8739495798319328\n",
      "F1: 0.8112324492979719\n",
      "metrics on train:\n",
      "Accuracy: 0.7754868270332188\n",
      "Precision: 0.7942145734163311\n",
      "Recall: 0.9071518193224593\n",
      "F1: 0.8469347910972277\n"
     ]
    }
   ],
   "source": [
    "knn_clf = KNeighborsClassifier(n_neighbors=9)\n",
    "get_scores(knn_clf)"
   ]
  },
  {
   "cell_type": "code",
   "execution_count": 252,
   "metadata": {},
   "outputs": [],
   "source": [
    "test_results = []\n",
    "train_results = []\n",
    "for k in range(1, 50):\n",
    "    clf = KNeighborsClassifier(n_neighbors=k)\n",
    "    clf = clf.fit(X_train_te_normal, y_train)\n",
    "    test_results.append(clf.score(X_test_te_normal, y_test))\n",
    "    train_results.append(clf.score(X_train_te_normal, y_train))"
   ]
  },
  {
   "cell_type": "code",
   "execution_count": 261,
   "metadata": {},
   "outputs": [
    {
     "data": {
      "image/png": "[encoded data removed]",
      "text/plain": [
       "<Figure size 864x576 with 1 Axes>"
      ]
     },
     "metadata": {
      "needs_background": "light"
     },
     "output_type": "display_data"
    }
   ],
   "source": [
    "plt.figure(figsize=(12, 8))\n",
    "plt.plot(range(1, 50), train_results, label='train')\n",
    "plt.plot(range(1, 50), test_results, label='test')\n",
    "plt.title('Accuracy of KNN on train and test data ')\n",
    "plt.xlabel('K')\n",
    "plt.ylabel(\"Accuracy\")\n",
    "plt.legend()\n",
    "plt.show()"
   ]
  },
  {
   "cell_type": "code",
   "execution_count": null,
   "metadata": {},
   "outputs": [],
   "source": []
  },
  {
   "cell_type": "code",
   "execution_count": 346,
   "metadata": {},
   "outputs": [
    {
     "name": "stdout",
     "output_type": "stream",
     "text": [
      "metrics on test:\n",
      "Accuracy: 0.7254004576659039\n",
      "Precision: 0.7503526093088858\n",
      "Recall: 0.8941176470588236\n",
      "F1: 0.8159509202453988\n",
      "metrics on train:\n",
      "Accuracy: 0.7623138602520045\n",
      "Precision: 0.7788495891389782\n",
      "Recall: 0.9117524048515265\n",
      "F1: 0.8400770712909441\n"
     ]
    }
   ],
   "source": [
    "lr_clf = LogisticRegression(solver='lbfgs', C = 9, max_iter=1000)\n",
    "get_scores(lr_clf)"
   ]
  },
  {
   "cell_type": "code",
   "execution_count": 354,
   "metadata": {},
   "outputs": [
    {
     "name": "stdout",
     "output_type": "stream",
     "text": [
      "metrics on test:\n",
      "Accuracy: 0.7379862700228833\n",
      "Precision: 0.7723214285714286\n",
      "Recall: 0.8722689075630252\n",
      "F1: 0.819258089976322\n",
      "metrics on train:\n",
      "Accuracy: 0.7342497136311569\n",
      "Precision: 0.772642564293701\n",
      "Recall: 0.8670012547051443\n",
      "F1: 0.8171068190776508\n"
     ]
    }
   ],
   "source": [
    "dt_clf = DecisionTreeClassifier(max_depth=1)\n",
    "get_scores(dt_clf)"
   ]
  },
  {
   "cell_type": "code",
   "execution_count": 262,
   "metadata": {},
   "outputs": [],
   "source": [
    "test_results = []\n",
    "train_results = []\n",
    "for k in range(1, 20):\n",
    "    clf = DecisionTreeClassifier(max_depth = k)\n",
    "    clf = clf.fit(X_train_te_normal, y_train)\n",
    "    test_results.append(clf.score(X_test_te_normal, y_test))\n",
    "    train_results.append(clf.score(X_train_te_normal, y_train))"
   ]
  },
  {
   "cell_type": "code",
   "execution_count": 263,
   "metadata": {},
   "outputs": [
    {
     "data": {
      "image/png": "[encoded data removed]",
      "text/plain": [
       "<Figure size 864x576 with 1 Axes>"
      ]
     },
     "metadata": {
      "needs_background": "light"
     },
     "output_type": "display_data"
    }
   ],
   "source": [
    "plt.figure(figsize=(12, 8))\n",
    "plt.plot(range(1, 20), train_results, label='train')\n",
    "plt.plot(range(1, 20), test_results, label='test')\n",
    "plt.title('Accuracy of DTC on train and test data ')\n",
    "plt.xlabel('K')\n",
    "plt.ylabel(\"Accuracy\")\n",
    "plt.legend()\n",
    "plt.show()"
   ]
  },
  {
   "cell_type": "markdown",
   "metadata": {},
   "source": [
    "# Phase 2"
   ]
  },
  {
   "cell_type": "code",
   "execution_count": 281,
   "metadata": {},
   "outputs": [],
   "source": [
    "from sklearn.ensemble import BaggingClassifier, RandomForestClassifier\n"
   ]
  },
  {
   "cell_type": "code",
   "execution_count": 286,
   "metadata": {},
   "outputs": [
    {
     "name": "stdout",
     "output_type": "stream",
     "text": [
      "metrics on test:\n",
      "Accuracy: 0.7311212814645309\n",
      "Precision: 0.7479338842975206\n",
      "Recall: 0.9126050420168067\n",
      "F1: 0.8221044663133988\n",
      "metrics on train:\n",
      "Accuracy: 0.7875143184421535\n",
      "Precision: 0.7893997893997894\n",
      "Recall: 0.9406106231702217\n",
      "F1: 0.8583969465648855\n"
     ]
    }
   ],
   "source": [
    "knn = KNeighborsClassifier(n_neighbors = 9)\n",
    "clf = BaggingClassifier(base_estimator=knn, max_features=0.5, n_estimators=50)\n",
    "get_scores(clf)"
   ]
  },
  {
   "cell_type": "code",
   "execution_count": 287,
   "metadata": {},
   "outputs": [
    {
     "name": "stdout",
     "output_type": "stream",
     "text": [
      "metrics on test:\n",
      "Accuracy: 0.7402745995423341\n",
      "Precision: 0.7621082621082621\n",
      "Recall: 0.8991596638655462\n",
      "F1: 0.8249807247494217\n",
      "metrics on train:\n",
      "Accuracy: 0.7396907216494846\n",
      "Precision: 0.7644539614561028\n",
      "Recall: 0.8958594730238394\n",
      "F1: 0.8249566724436742\n"
     ]
    }
   ],
   "source": [
    "knn = DecisionTreeClassifier(max_depth=1)\n",
    "clf = BaggingClassifier(base_estimator=knn, max_features=0.5, n_estimators=20)\n",
    "get_scores(clf)"
   ]
  },
  {
   "cell_type": "code",
   "execution_count": 291,
   "metadata": {},
   "outputs": [
    {
     "name": "stdout",
     "output_type": "stream",
     "text": [
      "metrics on test:\n",
      "Accuracy: 0.7356979405034325\n",
      "Precision: 0.7466124661246613\n",
      "Recall: 0.9260504201680673\n",
      "F1: 0.8267066766691673\n",
      "metrics on train:\n",
      "Accuracy: 0.7385452462772051\n",
      "Precision: 0.7508486082824168\n",
      "Recall: 0.9251359263906316\n",
      "F1: 0.8289301105489977\n"
     ]
    }
   ],
   "source": [
    "clf = RandomForestClassifier(n_estimators=100, n_jobs=8, max_depth=2)\n",
    "get_scores(clf)"
   ]
  },
  {
   "cell_type": "code",
   "execution_count": 292,
   "metadata": {},
   "outputs": [],
   "source": [
    "from sklearn.model_selection import GridSearchCV"
   ]
  },
  {
   "cell_type": "code",
   "execution_count": 309,
   "metadata": {},
   "outputs": [
    {
     "name": "stdout",
     "output_type": "stream",
     "text": [
      "Fitting 3 folds for each of 315 candidates, totalling 945 fits\n"
     ]
    },
    {
     "name": "stderr",
     "output_type": "stream",
     "text": [
      "[Parallel(n_jobs=8)]: Using backend LokyBackend with 8 concurrent workers.\n",
      "[Parallel(n_jobs=8)]: Done 178 tasks      | elapsed:    3.0s\n",
      "[Parallel(n_jobs=8)]: Done 775 tasks      | elapsed:   16.4s\n",
      "[Parallel(n_jobs=8)]: Done 945 out of 945 | elapsed:   25.0s finished\n"
     ]
    }
   ],
   "source": [
    "param_grid = {'n_estimators': [1, 3, 7, 15, 30, 60, 100],\n",
    "              'max_depth': range(1, 10), \n",
    "              'max_features': [0.1, 0.3, 0.5, 0.7, 0.9]}\n",
    "\n",
    "gs = GridSearchCV(RandomForestClassifier(), param_grid, n_jobs=8, scoring = 'f1', verbose=2)\n",
    "gs = gs.fit(X_train_te_normal, y_train)"
   ]
  },
  {
   "cell_type": "code",
   "execution_count": 311,
   "metadata": {},
   "outputs": [
    {
     "name": "stdout",
     "output_type": "stream",
     "text": [
      "metrics on test:\n",
      "Accuracy: 0.7322654462242563\n",
      "Precision: 0.7449118046132972\n",
      "Recall: 0.9226890756302522\n",
      "F1: 0.8243243243243243\n",
      "metrics on train:\n",
      "Accuracy: 0.7580183276059564\n",
      "Precision: 0.7627464309993202\n",
      "Recall: 0.9385194479297365\n",
      "F1: 0.8415525970373149\n"
     ]
    }
   ],
   "source": [
    "best_clf = gs.best_estimator_\n",
    "get_scores(best_clf)"
   ]
  },
  {
   "cell_type": "code",
   "execution_count": null,
   "metadata": {},
   "outputs": [],
   "source": []
  },
  {
   "cell_type": "code",
   "execution_count": 397,
   "metadata": {},
   "outputs": [],
   "source": [
    "model = KNeighborsClassifier(3)\n",
    "test_results = []\n",
    "train_results = []\n",
    "num_estimators = [1, 2, 3, 4, 5, 6, 7, 8, 9, 12, 15, 20, 25, 30, 65]\n",
    "for k in num_estimators:\n",
    "    clf = BaggingClassifier(base_estimator=model, max_features=0.5, n_estimators=k)\n",
    "    clf = clf.fit(X_train_te_normal, y_train)\n",
    "    test_results.append(clf.score(X_test_te_normal, y_test))\n",
    "    train_results.append(clf.score(X_train_te_normal, y_train))\n"
   ]
  },
  {
   "cell_type": "code",
   "execution_count": 398,
   "metadata": {},
   "outputs": [
    {
     "data": {
      "image/png": "[encoded data removed]",
      "text/plain": [
       "<Figure size 864x576 with 1 Axes>"
      ]
     },
     "metadata": {
      "needs_background": "light"
     },
     "output_type": "display_data"
    }
   ],
   "source": [
    "plt.figure(figsize=(12, 8))\n",
    "plt.plot(num_estimators, train_results, label='train')\n",
    "plt.plot(num_estimators, test_results, label='test')\n",
    "plt.title('Accuracy of bagging DTC on train and test data ')\n",
    "plt.xlabel('num of estimators')\n",
    "plt.ylabel(\"Accuracy\")\n",
    "plt.legend()\n",
    "plt.show()"
   ]
  },
  {
   "cell_type": "markdown",
   "metadata": {},
   "source": [
    "Using bootstrapping we have many weak models which use only a subset of features, thus are uncorrelated and are not the same. Using these methods variance will decrease and bias is likely to decrease(not providing enough data for our models may cause our models to differ much more and thus bias may be large)"
   ]
  },
  {
   "cell_type": "code",
   "execution_count": null,
   "metadata": {},
   "outputs": [],
   "source": []
  },
  {
   "cell_type": "code",
   "execution_count": 342,
   "metadata": {},
   "outputs": [],
   "source": [
    "from sklearn.ensemble import VotingClassifier"
   ]
  },
  {
   "cell_type": "code",
   "execution_count": 375,
   "metadata": {},
   "outputs": [
    {
     "name": "stdout",
     "output_type": "stream",
     "text": [
      "metrics on test:\n",
      "Accuracy: 0.7345537757437071\n",
      "Precision: 0.759656652360515\n",
      "Recall: 0.892436974789916\n",
      "F1: 0.8207109737248841\n",
      "metrics on train:\n",
      "Accuracy: 0.7666093928980527\n",
      "Precision: 0.7842712842712842\n",
      "Recall: 0.9092429945629443\n",
      "F1: 0.84214603912454\n"
     ]
    }
   ],
   "source": [
    "knn_clf = KNeighborsClassifier(n_neighbors=9)\n",
    "lr_clf = LogisticRegression(solver='lbfgs', C = 9, max_iter=1000)\n",
    "dt_clf = DecisionTreeClassifier(max_depth=1)\n",
    "vc_clf = VotingClassifier([('knn', knn_clf), ('lr', lr_clf), ('dt', dt_clf)], voting='hard')\n",
    "get_scores(vc_clf)"
   ]
  },
  {
   "cell_type": "code",
   "execution_count": 372,
   "metadata": {},
   "outputs": [],
   "source": [
    "knn_clf = KNeighborsClassifier(n_neighbors=9)\n",
    "knn_predicts = knn_clf.fit(X_train_te_normal, y_train).predict(X_test_te_normal)\n",
    "\n",
    "lr_clf = LogisticRegression(solver='lbfgs', C = 9, max_iter=1000)\n",
    "lr_predicts = lr_clf.fit(X_train_te, y_train).predict(X_test_te)\n",
    "\n",
    "dt_clf = DecisionTreeClassifier(max_depth=1)\n",
    "dt_predicts = dt_clf.fit(X_train_te_normal, y_train).predict(X_test)\n",
    "\n"
   ]
  },
  {
   "cell_type": "code",
   "execution_count": 370,
   "metadata": {},
   "outputs": [
    {
     "name": "stdout",
     "output_type": "stream",
     "text": [
      "0.8924485125858124\n",
      "0.8752860411899314\n",
      "0.9096109839816934\n"
     ]
    }
   ],
   "source": [
    "print((knn_predicts == lr_predicts).mean())\n",
    "print((knn_predicts == dt_predicts).mean())\n",
    "print((dt_predicts == lr_predicts).mean())\n"
   ]
  },
  {
   "cell_type": "markdown",
   "metadata": {},
   "source": [
    "Voting Classifier has a better performance but it's not much because all three models have almost the same prediction, thus not much would change when voting between them.\n",
    "\n"
   ]
  },
  {
   "cell_type": "code",
   "execution_count": null,
   "metadata": {},
   "outputs": [],
   "source": []
  }
 ],
 "metadata": {
  "kernelspec": {
   "display_name": "Python 3",
   "language": "python",
   "name": "python3"
  },
  "language_info": {
   "codemirror_mode": {
    "name": "ipython",
    "version": 3
   },
   "file_extension": ".py",
   "mimetype": "text/x-python",
   "name": "python",
   "nbconvert_exporter": "python",
   "pygments_lexer": "ipython3",
   "version": "3.8.10"
  }
 },
 "nbformat": 4,
 "nbformat_minor": 2
}
