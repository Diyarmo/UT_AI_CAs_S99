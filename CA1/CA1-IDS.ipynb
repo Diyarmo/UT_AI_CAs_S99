{
 "cells": [
  {
   "cell_type": "code",
   "execution_count": 1,
   "metadata": {},
   "outputs": [],
   "source": [
    "from copy import deepcopy\n",
    "import time"
   ]
  },
  {
   "cell_type": "code",
   "execution_count": null,
   "metadata": {},
   "outputs": [],
   "source": []
  },
  {
   "cell_type": "code",
   "execution_count": null,
   "metadata": {},
   "outputs": [],
   "source": []
  },
  {
   "cell_type": "code",
   "execution_count": null,
   "metadata": {},
   "outputs": [],
   "source": []
  },
  {
   "cell_type": "code",
   "execution_count": null,
   "metadata": {},
   "outputs": [],
   "source": []
  },
  {
   "cell_type": "code",
   "execution_count": 2,
   "metadata": {},
   "outputs": [],
   "source": [
    "def open_map(filename):\n",
    "    file = open(filename)\n",
    "    Map = file.read().split('\\n')\n",
    "    del Map[-1]\n",
    "    # state = [\n",
    "    #     [2,4], #Ambulance\n",
    "    #     [[1, 8], [3, 2], [3, 9], [4,4]], #Patients\n",
    "    #     {(1, 6): 1, (5, 2): 2, (5, 9): 1} #Hospitals\n",
    "    # ] Sample State\n",
    "    state = [[], [], {}]\n",
    "    for i, row in enumerate(Map):\n",
    "        for j, cell in enumerate(row):\n",
    "            if cell == 'A':\n",
    "                state[0] = [i, j]\n",
    "            elif cell == 'P':\n",
    "                state[1].append([i, j])\n",
    "            elif cell.isdigit():\n",
    "                state[2][i,j] = int(cell)\n",
    "    start_state = state\n",
    "    rawMap = deepcopy(Map)\n",
    "    for i in range(len(rawMap)):\n",
    "        rawMap[i] = rawMap[i].replace('1', ' ')\n",
    "        rawMap[i] = rawMap[i].replace('2', ' ')\n",
    "        rawMap[i] = rawMap[i].replace('3', ' ')\n",
    "        rawMap[i] = rawMap[i].replace('P', ' ')\n",
    "        rawMap[i] = rawMap[i].replace('A', ' ')\n",
    "    return Map, rawMap, start_state"
   ]
  },
  {
   "cell_type": "code",
   "execution_count": null,
   "metadata": {},
   "outputs": [],
   "source": []
  },
  {
   "cell_type": "code",
   "execution_count": 3,
   "metadata": {},
   "outputs": [],
   "source": [
    "def printState(state):\n",
    "    m = deepcopy(rawMap)\n",
    "    a = state[0]\n",
    "    m[a[0]] = m[a[0]][:a[1]] + 'A' + m[a[0]][a[1]+1:]\n",
    "    for p in state[1]:\n",
    "        m[p[0]] = m[p[0]][:p[1]] + 'P' + m[p[0]][p[1]+1:]\n",
    "    for h in state[2]:\n",
    "        m[h[0]] = m[h[0]][:h[1]] + str(state[2][h]) + m[h[0]][h[1]+1:]\n",
    "    for row in m:\n",
    "        print(row)\n",
    "    print(\"---\")\n"
   ]
  },
  {
   "cell_type": "code",
   "execution_count": 4,
   "metadata": {},
   "outputs": [],
   "source": [
    "def print_steps(state, to_visit):\n",
    "    s = state\n",
    "    while s is not None:\n",
    "        if print_steps:\n",
    "            printState(s)\n",
    "        s = to_visit[str(s)][0]\n"
   ]
  },
  {
   "cell_type": "code",
   "execution_count": 10,
   "metadata": {},
   "outputs": [],
   "source": [
    "def IDS(start_state, depth):\n",
    "    found = False\n",
    "    goal_state = None\n",
    "    found_depth = depth+1\n",
    "    for d in range(16, depth):\n",
    "        if found:\n",
    "            break\n",
    "        count = 0\n",
    "        visited, queue, to_visit = set(), [start_state], dict()\n",
    "        better_way = set()\n",
    "        unique_state = 0\n",
    "        total_state = 1\n",
    "        to_visit[str(start_state)] = [None, 0]\n",
    "        while queue:\n",
    "            state = queue.pop(-1)\n",
    "            unique_state += 1\n",
    "            \n",
    "            if str(state) not in visited or str(state) in better_way:\n",
    "                if str(state) in better_way:\n",
    "                    count += 1\n",
    "                    better_way.remove(str(state))\n",
    "                visited.add(str(state))\n",
    "                i,j = state[0]\n",
    "                if (len(state[1]) == 0) and found_depth > to_visit[str(state)][1] :\n",
    "                    found = True\n",
    "                    goal_state = state\n",
    "                    found_depth = to_visit[str(state)][1]\n",
    "                    \n",
    "                if to_visit[str(state)][1] == d:\n",
    "                    continue;\n",
    "                for di, dj in [[1, 0], [0, -1], [-1, 0], [0, 1]]:\n",
    "                    new_state = deepcopy(state)\n",
    "        #             new_state.parent = state\n",
    "                    ni = i+di; nj = j+dj\n",
    "                    n2i = i+2*di; n2j = j+2*dj\n",
    "                    if Map[ni][nj] != '#': # if neighbour is not wall\n",
    "                        if [ni, nj] in state[1]: # if neighbour is a patient\n",
    "                            if (n2i, n2j) in new_state[2] and new_state[2][n2i, n2j] > 0: #if 2neighbour is an hospital\n",
    "                                new_state[0][0] += di\n",
    "                                new_state[0][1] += dj\n",
    "                                new_state[1].remove([ni, nj]) # remove patient\n",
    "                                new_state[2][n2i, n2j] -= 1 # decrease hospital\n",
    "                            elif ([n2i, n2j] not in new_state[1]) and  Map[n2i][n2j] != '#':\n",
    "                                new_state[0][0] += di\n",
    "                                new_state[0][1] += dj\n",
    "                                new_state[1].remove([ni, nj]) # remove patient\n",
    "                                new_state[1].append([n2i, n2j])\n",
    "                                new_state[1].sort()\n",
    "                            else:\n",
    "                                continue\n",
    "                        else:\n",
    "                            new_state[0][0] += di\n",
    "                            new_state[0][1] += dj\n",
    "                        total_state += 1\n",
    "                        if str(new_state) not in to_visit :\n",
    "                            queue.append(new_state)\n",
    "                            to_visit[str(new_state)] = [state, to_visit[str(state)][1] + 1]\n",
    "                        elif to_visit[str(state)][1] + 1 < to_visit[str(new_state)][1]:\n",
    "                            queue.append(new_state)\n",
    "                            to_visit[str(new_state)] = [state, to_visit[str(state)][1] + 1]\n",
    "                            better_way.add(str(new_state))\n",
    "\n",
    "    return total_state, unique_state, to_visit, goal_state, found"
   ]
  },
  {
   "cell_type": "code",
   "execution_count": 6,
   "metadata": {},
   "outputs": [
    {
     "name": "stdout",
     "output_type": "stream",
     "text": [
      "243821 100013 63.80073547363281 True\n",
      "Steps:  39\n"
     ]
    }
   ],
   "source": [
    "Map, rawMap, start_state = open_map(\"test3.txt\")\n",
    "tic = time.time()\n",
    "ts, us, to_visit, goal_state, found = IDS(start_state, 41)\n",
    "print(ts, us, time.time() - tic, found)\n",
    "print(\"Steps: \", to_visit[str(goal_state)][1])"
   ]
  },
  {
   "cell_type": "code",
   "execution_count": 7,
   "metadata": {},
   "outputs": [
    {
     "name": "stdout",
     "output_type": "stream",
     "text": [
      "62719 27867 16.79711079597473 True\n",
      "Steps:  27\n"
     ]
    }
   ],
   "source": [
    "Map, rawMap, start_state = open_map(\"test2.txt\")\n",
    "tic = time.time()\n",
    "ts, us, to_visit, goal_state, found = IDS(start_state, 30)\n",
    "print(ts, us, time.time() - tic, found)\n",
    "print(\"Steps: \", to_visit[str(goal_state)][1])"
   ]
  },
  {
   "cell_type": "code",
   "execution_count": 11,
   "metadata": {},
   "outputs": [
    {
     "ename": "UnboundLocalError",
     "evalue": "local variable 'total_state' referenced before assignment",
     "output_type": "error",
     "traceback": [
      "\u001b[0;31m---------------------------------------------------------------------------\u001b[0m",
      "\u001b[0;31mUnboundLocalError\u001b[0m                         Traceback (most recent call last)",
      "\u001b[0;32m<ipython-input-11-c99674b45a15>\u001b[0m in \u001b[0;36m<module>\u001b[0;34m\u001b[0m\n\u001b[1;32m      1\u001b[0m \u001b[0mMap\u001b[0m\u001b[0;34m,\u001b[0m \u001b[0mrawMap\u001b[0m\u001b[0;34m,\u001b[0m \u001b[0mstart_state\u001b[0m \u001b[0;34m=\u001b[0m \u001b[0mopen_map\u001b[0m\u001b[0;34m(\u001b[0m\u001b[0;34m\"test1.txt\"\u001b[0m\u001b[0;34m)\u001b[0m\u001b[0;34m\u001b[0m\u001b[0;34m\u001b[0m\u001b[0m\n\u001b[1;32m      2\u001b[0m \u001b[0mtic\u001b[0m \u001b[0;34m=\u001b[0m \u001b[0mtime\u001b[0m\u001b[0;34m.\u001b[0m\u001b[0mtime\u001b[0m\u001b[0;34m(\u001b[0m\u001b[0;34m)\u001b[0m\u001b[0;34m\u001b[0m\u001b[0;34m\u001b[0m\u001b[0m\n\u001b[0;32m----> 3\u001b[0;31m \u001b[0mts\u001b[0m\u001b[0;34m,\u001b[0m \u001b[0mus\u001b[0m\u001b[0;34m,\u001b[0m \u001b[0mto_visit\u001b[0m\u001b[0;34m,\u001b[0m \u001b[0mgoal_state\u001b[0m\u001b[0;34m,\u001b[0m \u001b[0mfound\u001b[0m \u001b[0;34m=\u001b[0m \u001b[0mIDS\u001b[0m\u001b[0;34m(\u001b[0m\u001b[0mstart_state\u001b[0m\u001b[0;34m,\u001b[0m \u001b[0;36m15\u001b[0m\u001b[0;34m)\u001b[0m\u001b[0;34m\u001b[0m\u001b[0;34m\u001b[0m\u001b[0m\n\u001b[0m\u001b[1;32m      4\u001b[0m \u001b[0mprint\u001b[0m\u001b[0;34m(\u001b[0m\u001b[0mts\u001b[0m\u001b[0;34m,\u001b[0m \u001b[0mus\u001b[0m\u001b[0;34m,\u001b[0m \u001b[0mtime\u001b[0m\u001b[0;34m.\u001b[0m\u001b[0mtime\u001b[0m\u001b[0;34m(\u001b[0m\u001b[0;34m)\u001b[0m \u001b[0;34m-\u001b[0m \u001b[0mtic\u001b[0m\u001b[0;34m,\u001b[0m \u001b[0mfound\u001b[0m\u001b[0;34m)\u001b[0m\u001b[0;34m\u001b[0m\u001b[0;34m\u001b[0m\u001b[0m\n\u001b[1;32m      5\u001b[0m \u001b[0mprint\u001b[0m\u001b[0;34m(\u001b[0m\u001b[0;34m\"Steps: \"\u001b[0m\u001b[0;34m,\u001b[0m \u001b[0mto_visit\u001b[0m\u001b[0;34m[\u001b[0m\u001b[0mstr\u001b[0m\u001b[0;34m(\u001b[0m\u001b[0mgoal_state\u001b[0m\u001b[0;34m)\u001b[0m\u001b[0;34m]\u001b[0m\u001b[0;34m[\u001b[0m\u001b[0;36m1\u001b[0m\u001b[0;34m]\u001b[0m\u001b[0;34m)\u001b[0m\u001b[0;34m\u001b[0m\u001b[0;34m\u001b[0m\u001b[0m\n",
      "\u001b[0;32m<ipython-input-10-e3693de94baf>\u001b[0m in \u001b[0;36mIDS\u001b[0;34m(start_state, depth)\u001b[0m\n\u001b[1;32m     61\u001b[0m                             \u001b[0mbetter_way\u001b[0m\u001b[0;34m.\u001b[0m\u001b[0madd\u001b[0m\u001b[0;34m(\u001b[0m\u001b[0mstr\u001b[0m\u001b[0;34m(\u001b[0m\u001b[0mnew_state\u001b[0m\u001b[0;34m)\u001b[0m\u001b[0;34m)\u001b[0m\u001b[0;34m\u001b[0m\u001b[0;34m\u001b[0m\u001b[0m\n\u001b[1;32m     62\u001b[0m \u001b[0;34m\u001b[0m\u001b[0m\n\u001b[0;32m---> 63\u001b[0;31m     \u001b[0;32mreturn\u001b[0m \u001b[0mtotal_state\u001b[0m\u001b[0;34m,\u001b[0m \u001b[0munique_state\u001b[0m\u001b[0;34m,\u001b[0m \u001b[0mto_visit\u001b[0m\u001b[0;34m,\u001b[0m \u001b[0mgoal_state\u001b[0m\u001b[0;34m,\u001b[0m \u001b[0mfound\u001b[0m\u001b[0;34m\u001b[0m\u001b[0;34m\u001b[0m\u001b[0m\n\u001b[0m",
      "\u001b[0;31mUnboundLocalError\u001b[0m: local variable 'total_state' referenced before assignment"
     ]
    }
   ],
   "source": [
    "Map, rawMap, start_state = open_map(\"test1.txt\")\n",
    "tic = time.time()\n",
    "ts, us, to_visit, goal_state, found = IDS(start_state, 15)\n",
    "print(ts, us, time.time() - tic, found)\n",
    "print(\"Steps: \", to_visit[str(goal_state)][1])"
   ]
  },
  {
   "cell_type": "code",
   "execution_count": null,
   "metadata": {},
   "outputs": [],
   "source": []
  },
  {
   "cell_type": "code",
   "execution_count": null,
   "metadata": {},
   "outputs": [],
   "source": []
  },
  {
   "cell_type": "code",
   "execution_count": 4,
   "metadata": {},
   "outputs": [],
   "source": [
    "\n"
   ]
  },
  {
   "cell_type": "code",
   "execution_count": null,
   "metadata": {},
   "outputs": [],
   "source": []
  },
  {
   "cell_type": "code",
   "execution_count": null,
   "metadata": {},
   "outputs": [],
   "source": []
  },
  {
   "cell_type": "code",
   "execution_count": null,
   "metadata": {},
   "outputs": [],
   "source": []
  }
 ],
 "metadata": {
  "kernelspec": {
   "display_name": "Python 3",
   "language": "python",
   "name": "python3"
  },
  "language_info": {
   "codemirror_mode": {
    "name": "ipython",
    "version": 3
   },
   "file_extension": ".py",
   "mimetype": "text/x-python",
   "name": "python",
   "nbconvert_exporter": "python",
   "pygments_lexer": "ipython3",
   "version": "3.7.4"
  }
 },
 "nbformat": 4,
 "nbformat_minor": 2
}
