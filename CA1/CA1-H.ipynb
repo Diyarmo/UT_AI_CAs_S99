{
 "cells": [
  {
   "cell_type": "code",
   "execution_count": 11,
   "metadata": {},
   "outputs": [],
   "source": [
    "from copy import deepcopy\n",
    "import time\n",
    "import heapq\n",
    "import numpy as np"
   ]
  },
  {
   "cell_type": "code",
   "execution_count": null,
   "metadata": {},
   "outputs": [],
   "source": []
  },
  {
   "cell_type": "code",
   "execution_count": null,
   "metadata": {},
   "outputs": [],
   "source": []
  },
  {
   "cell_type": "code",
   "execution_count": null,
   "metadata": {},
   "outputs": [],
   "source": []
  },
  {
   "cell_type": "code",
   "execution_count": 129,
   "metadata": {},
   "outputs": [
    {
     "data": {
      "text/plain": [
       "['##########',\n",
       " '#    3P  #',\n",
       " '#       A#',\n",
       " '## #### ##',\n",
       " '#   P P  #',\n",
       " '#        #',\n",
       " '##########']"
      ]
     },
     "execution_count": 129,
     "metadata": {},
     "output_type": "execute_result"
    }
   ],
   "source": [
    "Map"
   ]
  },
  {
   "cell_type": "code",
   "execution_count": 12,
   "metadata": {},
   "outputs": [],
   "source": [
    "def open_map(filename):\n",
    "    file = open(filename)\n",
    "    Map = file.read().split('\\n')\n",
    "    del Map[-1]\n",
    "    # state = [\n",
    "    #     [2,4], #Ambulance\n",
    "    #     [[1, 8], [3, 2], [3, 9], [4,4]], #Patients\n",
    "    #     {(1, 6): 1, (5, 2): 2, (5, 9): 1} #Hospitals\n",
    "    # ] Sample State\n",
    "    state = [[], [], {}]\n",
    "    for i, row in enumerate(Map):\n",
    "        for j, cell in enumerate(row):\n",
    "            if cell == 'A':\n",
    "                state[0] = [i, j]\n",
    "            elif cell == 'P':\n",
    "                state[1].append([i, j])\n",
    "            elif cell.isdigit():\n",
    "                state[2][i,j] = int(cell)\n",
    "    start_state = state\n",
    "    rawMap = deepcopy(Map)\n",
    "    for i in range(len(rawMap)):\n",
    "        rawMap[i] = rawMap[i].replace('1', ' ')\n",
    "        rawMap[i] = rawMap[i].replace('2', ' ')\n",
    "        rawMap[i] = rawMap[i].replace('3', ' ')\n",
    "        rawMap[i] = rawMap[i].replace('P', ' ')\n",
    "        rawMap[i] = rawMap[i].replace('A', ' ')\n",
    "    return Map, rawMap, start_state"
   ]
  },
  {
   "cell_type": "code",
   "execution_count": null,
   "metadata": {},
   "outputs": [],
   "source": []
  },
  {
   "cell_type": "code",
   "execution_count": 13,
   "metadata": {},
   "outputs": [],
   "source": [
    "def printState(state):\n",
    "    m = deepcopy(rawMap)\n",
    "    a = state[0]\n",
    "    m[a[0]] = m[a[0]][:a[1]] + 'A' + m[a[0]][a[1]+1:]\n",
    "    for p in state[1]:\n",
    "        m[p[0]] = m[p[0]][:p[1]] + 'P' + m[p[0]][p[1]+1:]\n",
    "    for h in state[2]:\n",
    "        m[h[0]] = m[h[0]][:h[1]] + str(state[2][h]) + m[h[0]][h[1]+1:]\n",
    "    for row in m:\n",
    "        print(row)\n",
    "    print(\"---\")\n"
   ]
  },
  {
   "cell_type": "code",
   "execution_count": 14,
   "metadata": {},
   "outputs": [],
   "source": [
    "def print_steps(state, to_visit):\n",
    "    s = state\n",
    "    while s is not None:\n",
    "        if print_steps:\n",
    "            printState(s)\n",
    "        s = to_visit[str(s)][0]\n"
   ]
  },
  {
   "cell_type": "code",
   "execution_count": 176,
   "metadata": {},
   "outputs": [],
   "source": [
    "def Manhatan(state, cum_cost):\n",
    "    cost = 0\n",
    "    for p in state[1]:\n",
    "        cost += np.min(np.sum(np.abs(np.array(list(state[2]))  - np.array(p)), axis=1))\n",
    "    return cost + cum_cost + np.random.uniform()/100\n",
    "def Euclidean(state, cum_cost):\n",
    "    cost = 0\n",
    "    for p in state[1]:\n",
    "        cost += np.min(np.sum(np.power(np.array(list(state[2]))  - np.array(p), 2), axis=1))\n",
    "    return np.sqrt(cost) + cum_cost + np.random.uniform()/100\n",
    "def Patients(state, cum_cost):\n",
    "    return len(state[2]) + cum_cost + np.random.uniform()/100"
   ]
  },
  {
   "cell_type": "code",
   "execution_count": 177,
   "metadata": {},
   "outputs": [],
   "source": [
    "def Heuristic(start_state, h_func):\n",
    "    visited, queue, to_visit = set(), [[h_func(start_state, 0), start_state]], dict()\n",
    "    found = False\n",
    "    unique_state = 0\n",
    "    total_state = 1\n",
    "    better_way = set()\n",
    "    to_visit[str(start_state)] = [None, 0]\n",
    "    while queue:\n",
    "        cum_cost, state = heapq.heappop(queue)\n",
    "#         print(cost, state)\n",
    "        unique_state += 1\n",
    "        if str(state) not in visited or str(state) in better_way:\n",
    "            if str(state) in better_way:\n",
    "                better_way.remove(str(state))\n",
    "            visited.add(str(state))\n",
    "            i,j = state[0]\n",
    "            if (len(state[1]) == 0):\n",
    "                found = True\n",
    "                break\n",
    "            for di, dj in [[-1, 0], [1, 0], [0, -1], [0, 1]]:\n",
    "                new_state = deepcopy(state)\n",
    "    #             new_state.parent = state\n",
    "                ni = i+di; nj = j+dj\n",
    "                n2i = i+2*di; n2j = j+2*dj\n",
    "                if Map[ni][nj] != '#': # if neighbour is not wall\n",
    "                    if [ni, nj] in state[1]: # if neighbour is a patient\n",
    "                        if (n2i, n2j) in new_state[2] and new_state[2][n2i, n2j] > 0: #if 2neighbour is an hospital\n",
    "                            new_state[0][0] += di\n",
    "                            new_state[0][1] += dj\n",
    "                            new_state[1].remove([ni, nj]) # remove patient\n",
    "                            new_state[2][n2i, n2j] -= 1 # decrease hospital\n",
    "                        elif ([n2i, n2j] not in new_state[1]) and  Map[n2i][n2j] != '#':\n",
    "                            new_state[0][0] += di\n",
    "                            new_state[0][1] += dj\n",
    "                            new_state[1].remove([ni, nj]) # remove patient\n",
    "                            new_state[1].append([n2i, n2j])\n",
    "                            new_state[1].sort()\n",
    "                        else:\n",
    "                            continue\n",
    "                    else:\n",
    "                        new_state[0][0] += di\n",
    "                        new_state[0][1] += dj\n",
    "                    total_state += 1\n",
    "                    if str(new_state) not in to_visit:\n",
    "                        steps = to_visit[str(state)][1] + 1\n",
    "                        heapq.heappush(queue, [h_func(new_state, cum_cost), new_state])\n",
    "                        to_visit[str(new_state)] = [state, steps]\n",
    "                    elif to_visit[str(state)][1] + 1 < to_visit[str(new_state)][1]:\n",
    "                        heapq.heappush(queue, [h_func(new_state, cum_cost), new_state])\n",
    "                        to_visit[str(new_state)] = [state, to_visit[str(state)][1] + 1]\n",
    "                        better_way.add(str(new_state))\n",
    "\n",
    "    return total_state, unique_state, to_visit, state, found"
   ]
  },
  {
   "cell_type": "code",
   "execution_count": 181,
   "metadata": {},
   "outputs": [
    {
     "name": "stdout",
     "output_type": "stream",
     "text": [
      "0.8475503921508789\n",
      "13061 4795 True\n",
      "Steps:  41\n",
      "3.48002028465271\n",
      "79792 29043 True\n",
      "Steps:  39\n",
      "2.191082715988159\n",
      "29884 10928 True\n",
      "Steps:  39\n"
     ]
    }
   ],
   "source": [
    "Map, rawMap, start_state = open_map(\"test3.txt\")\n",
    "tic = time.time()\n",
    "ts, us, to_visit, goal_state, found = Heuristic(start_state, Manhatan)\n",
    "print(time.time() - tic)\n",
    "print(ts, us, found)\n",
    "print(\"Steps: \", to_visit[str(goal_state)][1])\n",
    "tic = time.time()\n",
    "ts, us, to_visit, goal_state, found = Heuristic(start_state, Patients)\n",
    "print(time.time() - tic)\n",
    "print(ts, us, found)\n",
    "print(\"Steps: \", to_visit[str(goal_state)][1])\n",
    "tic = time.time()\n",
    "ts, us, to_visit, goal_state, found = Heuristic(start_state, Euclidean)\n",
    "print(time.time() - tic)\n",
    "print(ts, us, found)\n",
    "print(\"Steps: \", to_visit[str(goal_state)][1])"
   ]
  },
  {
   "cell_type": "code",
   "execution_count": 182,
   "metadata": {},
   "outputs": [
    {
     "name": "stdout",
     "output_type": "stream",
     "text": [
      "0.821213960647583\n",
      "10772 4243 True\n",
      "Steps:  27\n",
      "1.3009214401245117\n",
      "23042 9226 True\n",
      "Steps:  27\n",
      "1.3139302730560303\n",
      "14408 5716 True\n",
      "Steps:  27\n"
     ]
    }
   ],
   "source": [
    "Map, rawMap, start_state = open_map(\"test2.txt\")\n",
    "tic = time.time()\n",
    "ts, us, to_visit, goal_state, found = Heuristic(start_state, Manhatan)\n",
    "print(time.time() - tic)\n",
    "print(ts, us, found)\n",
    "print(\"Steps: \", to_visit[str(goal_state)][1])\n",
    "tic = time.time()\n",
    "ts, us, to_visit, goal_state, found = Heuristic(start_state, Patients)\n",
    "print(time.time() - tic)\n",
    "print(ts, us, found)\n",
    "print(\"Steps: \", to_visit[str(goal_state)][1])\n",
    "tic = time.time()\n",
    "ts, us, to_visit, goal_state, found = Heuristic(start_state, Euclidean)\n",
    "print(time.time() - tic)\n",
    "print(ts, us, found)\n",
    "print(\"Steps: \", to_visit[str(goal_state)][1])"
   ]
  },
  {
   "cell_type": "code",
   "execution_count": 183,
   "metadata": {},
   "outputs": [
    {
     "name": "stdout",
     "output_type": "stream",
     "text": [
      "0.025394678115844727\n",
      "218 78 True\n",
      "Steps:  11\n",
      "0.043848514556884766\n",
      "1302 469 True\n",
      "Steps:  11\n",
      "0.0202181339263916\n",
      "313 111 True\n",
      "Steps:  11\n"
     ]
    }
   ],
   "source": [
    "Map, rawMap, start_state = open_map(\"test1.txt\")\n",
    "tic = time.time()\n",
    "ts, us, to_visit, goal_state, found = Heuristic(start_state, Manhatan)\n",
    "print(time.time() - tic)\n",
    "print(ts, us, found)\n",
    "print(\"Steps: \", to_visit[str(goal_state)][1])\n",
    "tic = time.time()\n",
    "ts, us, to_visit, goal_state, found = Heuristic(start_state, Patients)\n",
    "print(time.time() - tic)\n",
    "print(ts, us, found)\n",
    "print(\"Steps: \", to_visit[str(goal_state)][1])\n",
    "tic = time.time()\n",
    "ts, us, to_visit, goal_state, found = Heuristic(start_state, Euclidean)\n",
    "print(time.time() - tic)\n",
    "print(ts, us, found)\n",
    "print(\"Steps: \", to_visit[str(goal_state)][1])"
   ]
  },
  {
   "cell_type": "code",
   "execution_count": null,
   "metadata": {},
   "outputs": [],
   "source": []
  },
  {
   "cell_type": "code",
   "execution_count": null,
   "metadata": {},
   "outputs": [],
   "source": []
  },
  {
   "cell_type": "code",
   "execution_count": 4,
   "metadata": {},
   "outputs": [],
   "source": [
    "\n"
   ]
  },
  {
   "cell_type": "code",
   "execution_count": null,
   "metadata": {},
   "outputs": [],
   "source": []
  },
  {
   "cell_type": "code",
   "execution_count": null,
   "metadata": {},
   "outputs": [],
   "source": []
  },
  {
   "cell_type": "code",
   "execution_count": null,
   "metadata": {},
   "outputs": [],
   "source": []
  }
 ],
 "metadata": {
  "kernelspec": {
   "display_name": "Python 3",
   "language": "python",
   "name": "python3"
  },
  "language_info": {
   "codemirror_mode": {
    "name": "ipython",
    "version": 3
   },
   "file_extension": ".py",
   "mimetype": "text/x-python",
   "name": "python",
   "nbconvert_exporter": "python",
   "pygments_lexer": "ipython3",
   "version": "3.7.4"
  }
 },
 "nbformat": 4,
 "nbformat_minor": 2
}
